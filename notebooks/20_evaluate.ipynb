{
 "cells": [
  {
   "cell_type": "code",
   "execution_count": null,
   "metadata": {},
   "outputs": [],
   "source": [
    "import seaborn as sns\n",
    "import tensorflow as tf\n",
    "import numpy as np\n",
    "import pandas as pd\n",
    "import math\n",
    "from sklearn.metrics import mean_squared_error\n",
    "from sklearn.linear_model import LinearRegression\n",
    "from scipy import stats\n",
    "import matplotlib.pyplot as plt\n",
    "import matplotlib.patches as mpatches"
   ]
  },
  {
   "cell_type": "code",
   "execution_count": null,
   "metadata": {},
   "outputs": [],
   "source": [
    "x_sheet = pd.read_excel(\"../data/coded_data.xlsx\", usecols=[1, 2, 3, 4, 9, 10, 11])\n",
    "x_sheet = x_sheet.fillna(0)\n",
    "\n",
    "df = np.asmatrix(x_sheet.values)\n",
    "y_sheet = pd.read_excel(\"../data/coded_data.xlsx\", usecols=[7])\n",
    "labels = np.array(y_sheet.values)"
   ]
  },
  {
   "cell_type": "code",
   "execution_count": null,
   "metadata": {},
   "outputs": [],
   "source": [
    "from sklearn.model_selection import train_test_split\n",
    "\n",
    "X_train, X_test, y_train, y_test = train_test_split(\n",
    "    df, labels, test_size=0.2, random_state=89\n",
    ")"
   ]
  },
  {
   "cell_type": "code",
   "execution_count": null,
   "metadata": {},
   "outputs": [],
   "source": [
    "def mean_pred(y_true, y_pred):\n",
    "    RMSE = tf.sqrt(tf.losses.mean_squared_error(y_true, y_pred))\n",
    "    return RMSE"
   ]
  },
  {
   "cell_type": "code",
   "execution_count": null,
   "metadata": {},
   "outputs": [],
   "source": [
    "model = tf.keras.models.load_model(\n",
    "    \"../models/model_current.h5\", custom_objects={\"mean_pred\": mean_pred}\n",
    ")"
   ]
  },
  {
   "cell_type": "code",
   "execution_count": null,
   "metadata": {},
   "outputs": [],
   "source": [
    "i = 4\n",
    "x_predict = df[i]\n",
    "\n",
    "print(df[i])\n",
    "print(labels[i])\n",
    "print(model.predict(x_predict))"
   ]
  },
  {
   "cell_type": "code",
   "execution_count": null,
   "metadata": {},
   "outputs": [],
   "source": [
    "test_ans = model.predict(X_test)"
   ]
  },
  {
   "cell_type": "code",
   "execution_count": null,
   "metadata": {},
   "outputs": [],
   "source": [
    "tensor_RMSE = math.sqrt(mean_squared_error(y_test, test_ans))\n",
    "print(\"RMSE: \" + str(tensor_RMSE))"
   ]
  },
  {
   "cell_type": "code",
   "execution_count": null,
   "metadata": {},
   "outputs": [],
   "source": [
    "linear_reg = LinearRegression()\n",
    "linear_reg.fit(y_test, y_test)"
   ]
  },
  {
   "cell_type": "code",
   "execution_count": null,
   "metadata": {},
   "outputs": [],
   "source": [
    "r2_score = linear_reg.score(y_test, test_ans)\n",
    "print(\"R2 Score from RxR + Scatter Predicted: %f\" % r2_score)\n",
    "\n",
    "slope, intercept, r_value, p_value, std_err = stats.linregress(\n",
    "    y_test[:, 0], test_ans[:, 0]\n",
    ")\n",
    "print(\"R2 Score from predicted x real %f\" % r_value ** 2)\n",
    "\n",
    "\n",
    "plt.scatter(y_test, test_ans)\n",
    "plt.plot(y_test, y_test, \"black\", label=\"real values\")\n",
    "plt.plot(y_test, intercept + slope * y_test, \"r\", label=\"fitted line\")\n",
    "plt.xlabel(\"Real values\")\n",
    "plt.ylabel(\"Predicted values\")\n",
    "\n",
    "red_patch = mpatches.Patch(color=\"red\", label=\"Regression from model\")\n",
    "black_patch = mpatches.Patch(color=\"black\", label=\"Regression from real data\")\n",
    "plt.legend(handles=[red_patch, black_patch])\n",
    "\n",
    "plt.savefig(\"../images/linear_reg_eval.png\")  # save the generated figure\n",
    "plt.show()"
   ]
  },
  {
   "cell_type": "code",
   "execution_count": null,
   "metadata": {},
   "outputs": [],
   "source": [
    "i = 15\n",
    "x_p = (test_ans[i] - intercept) / slope\n",
    "print(X_test[i])\n",
    "print(x_p)\n",
    "print(y_test[i])"
   ]
  }
 ],
 "metadata": {
  "kernelspec": {
   "display_name": "Python 3",
   "language": "python",
   "name": "python3"
  }
 },
 "nbformat": 4,
 "nbformat_minor": 4
}
