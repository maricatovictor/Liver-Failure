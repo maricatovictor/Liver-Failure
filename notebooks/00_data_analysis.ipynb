{
 "cells": [
  {
   "cell_type": "code",
   "execution_count": null,
   "metadata": {},
   "outputs": [],
   "source": [
    "import pandas as pd\n",
    "import seaborn as sns\n",
    "import numpy as np\n",
    "import matplotlib.pyplot as plt"
   ]
  },
  {
   "cell_type": "code",
   "execution_count": null,
   "metadata": {},
   "outputs": [],
   "source": [
    "x_sheet = pd.read_excel(\"../data/coded_data.xlsx\", usecols=[1, 2, 3, 4, 9, 10, 11])\n",
    "x_sheet = x_sheet.fillna(0)\n",
    "\n",
    "df = np.asmatrix(x_sheet.values)\n",
    "y_sheet = pd.read_excel(\"../data/coded_data.xlsx\", usecols=[7])\n",
    "labels = np.array(y_sheet.values)"
   ]
  },
  {
   "cell_type": "code",
   "execution_count": null,
   "metadata": {},
   "outputs": [],
   "source": [
    "data = x_sheet\n",
    "data[\"Queda de Viabilidade\"] = y_sheet\n",
    "pp = sns.pairplot(\n",
    "    data=data,\n",
    "    x_vars=[\n",
    "        \"% DMSO ()\",\n",
    "        \"% SFB ()\",\n",
    "        \"% () MEIO DE CULTURA\",\n",
    "        \" TREHALOSE\",\n",
    "        \" GLICEROL\",\n",
    "        \"SACAROSE\",\n",
    "    ],\n",
    "    y_vars=[\"Queda de Viabilidade\"],\n",
    ")\n",
    "\n",
    "pp.savefig(\"dot_plot_output.png\")"
   ]
  },
  {
   "cell_type": "code",
   "execution_count": null,
   "metadata": {},
   "outputs": [],
   "source": [
    "plt.hist(data[\"% DMSO ()\"])"
   ]
  },
  {
   "cell_type": "code",
   "execution_count": null,
   "metadata": {},
   "outputs": [],
   "source": [
    "plt.hist(data[\"% SFB ()\"])"
   ]
  },
  {
   "cell_type": "code",
   "execution_count": null,
   "metadata": {},
   "outputs": [],
   "source": [
    "plt.hist(data[\"% () MEIO DE CULTURA\"])"
   ]
  },
  {
   "cell_type": "code",
   "execution_count": null,
   "metadata": {},
   "outputs": [],
   "source": [
    "plt.hist(data[\" TREHALOSE\"])"
   ]
  },
  {
   "cell_type": "code",
   "execution_count": null,
   "metadata": {},
   "outputs": [],
   "source": [
    "plt.hist(data[\" GLICEROL\"])"
   ]
  },
  {
   "cell_type": "code",
   "execution_count": null,
   "metadata": {},
   "outputs": [],
   "source": [
    "plt.hist(data[\"SACAROSE\"])"
   ]
  },
  {
   "cell_type": "code",
   "execution_count": null,
   "metadata": {},
   "outputs": [],
   "source": [
    "data.head()"
   ]
  },
  {
   "cell_type": "code",
   "execution_count": null,
   "metadata": {},
   "outputs": [],
   "source": []
  }
 ],
 "metadata": {
  "kernelspec": {
   "display_name": "Python 3",
   "language": "python",
   "name": "python3"
  }
 },
 "nbformat": 4,
 "nbformat_minor": 4
}
