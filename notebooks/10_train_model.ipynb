{
 "cells": [
  {
   "cell_type": "code",
   "execution_count": null,
   "metadata": {
    "Collapsed": "false"
   },
   "outputs": [],
   "source": [
    "import pandas as pd\n",
    "import numpy as np\n",
    "import tensorflow as tf"
   ]
  },
  {
   "cell_type": "code",
   "execution_count": null,
   "metadata": {
    "Collapsed": "false"
   },
   "outputs": [],
   "source": [
    "x_sheet = pd.read_excel(\"../data/coded_data.xlsx\", usecols=[1, 2, 3, 4, 9, 10, 11])\n",
    "x_sheet = x_sheet.fillna(0)\n",
    "\n",
    "df = np.asmatrix(x_sheet.values)\n",
    "y_sheet = pd.read_excel(\"../data/coded_data.xlsx\", usecols=[7])\n",
    "labels = np.array(y_sheet.values)"
   ]
  },
  {
   "cell_type": "code",
   "execution_count": null,
   "metadata": {
    "Collapsed": "false"
   },
   "outputs": [],
   "source": [
    "from sklearn.model_selection import train_test_split\n",
    "\n",
    "X_train, X_test, y_train, y_test = train_test_split(\n",
    "    df, labels, test_size=0.2, random_state=89\n",
    ")"
   ]
  },
  {
   "cell_type": "code",
   "execution_count": null,
   "metadata": {
    "Collapsed": "false"
   },
   "outputs": [],
   "source": [
    "shape = np.shape(X_train)  # Shape of train array (number of events, no of variables)\n",
    "num_var = shape[1]  # how many variables on training data\n",
    "print(shape[0])"
   ]
  },
  {
   "cell_type": "code",
   "execution_count": null,
   "metadata": {
    "Collapsed": "false"
   },
   "outputs": [],
   "source": [
    "model = tf.keras.models.Sequential(\n",
    "    [\n",
    "        tf.keras.layers.Dense(num_var + 1, activation=\"linear\"),\n",
    "        tf.keras.layers.Dense(20, activation=\"relu\"),\n",
    "        tf.keras.layers.Dropout(0.7, seed=36),\n",
    "        tf.keras.layers.Dense(20, activation=\"selu\"),\n",
    "        tf.keras.layers.Dense(1, activation=\"linear\"),\n",
    "    ]\n",
    ")"
   ]
  },
  {
   "cell_type": "code",
   "execution_count": null,
   "metadata": {
    "Collapsed": "false"
   },
   "outputs": [],
   "source": [
    "def mean_pred(y_true, y_pred):\n",
    "    RMSE = tf.sqrt(tf.losses.mean_squared_error(y_true, y_pred))\n",
    "    return RMSE"
   ]
  },
  {
   "cell_type": "code",
   "execution_count": null,
   "metadata": {
    "Collapsed": "false"
   },
   "outputs": [],
   "source": [
    "lr = 0.005\n",
    "optimizer = tf.keras.optimizers.Nadam(lr=lr)\n",
    "model.compile(optimizer=optimizer, loss=mean_pred)"
   ]
  },
  {
   "cell_type": "code",
   "execution_count": null,
   "metadata": {
    "Collapsed": "false"
   },
   "outputs": [],
   "source": [
    "model.fit(\n",
    "    X_train,\n",
    "    y_train,\n",
    "    epochs=200,\n",
    "    steps_per_epoch=(int(len(X_train))),\n",
    "    validation_data=(X_test, y_test),\n",
    "    validation_steps=(int(len(X_test))),\n",
    ")"
   ]
  },
  {
   "cell_type": "code",
   "execution_count": null,
   "metadata": {
    "Collapsed": "false"
   },
   "outputs": [],
   "source": [
    "model.save(\"../models/model_current.h5\")"
   ]
  }
 ],
 "metadata": {
  "kernelspec": {
   "display_name": "Python 3",
   "language": "python",
   "name": "python3"
  },
  "language_info": {
   "codemirror_mode": {
    "name": "ipython",
    "version": 3
   },
   "file_extension": ".py",
   "mimetype": "text/x-python",
   "name": "python",
   "nbconvert_exporter": "python",
   "pygments_lexer": "ipython3",
   "version": "3.7.3"
  }
 },
 "nbformat": 4,
 "nbformat_minor": 4
}
