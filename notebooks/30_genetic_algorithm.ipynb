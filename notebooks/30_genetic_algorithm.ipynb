{
 "cells": [
  {
   "cell_type": "code",
   "execution_count": null,
   "metadata": {},
   "outputs": [],
   "source": [
    "import seaborn as sns\n",
    "import tensorflow as tf\n",
    "import numpy as np\n",
    "import pandas as pd\n",
    "import math\n",
    "from scipy import stats\n",
    "import matplotlib.pyplot as plt\n",
    "import random\n",
    "from pyeasyga.pyeasyga import GeneticAlgorithm"
   ]
  },
  {
   "cell_type": "code",
   "execution_count": null,
   "metadata": {},
   "outputs": [],
   "source": [
    "def mean_pred(y_true, y_pred):\n",
    "    RMSE = tf.sqrt(tf.losses.mean_squared_error(y_true, y_pred))\n",
    "    return RMSE"
   ]
  },
  {
   "cell_type": "code",
   "execution_count": null,
   "metadata": {},
   "outputs": [],
   "source": [
    "x_sheet = pd.read_excel(\"../data/coded_data.xlsx\", usecols=[1, 2, 3, 4, 9, 10, 11])\n",
    "x_sheet = x_sheet.fillna(0)\n",
    "\n",
    "df = np.asmatrix(x_sheet.values)\n",
    "y_sheet = pd.read_excel(\"../data/coded_data.xlsx\", usecols=[7])\n",
    "labels = np.array(y_sheet.values)"
   ]
  },
  {
   "cell_type": "code",
   "execution_count": null,
   "metadata": {},
   "outputs": [],
   "source": [
    "from sklearn.model_selection import train_test_split\n",
    "\n",
    "X_train, X_test, y_train, y_test = train_test_split(\n",
    "    df, labels, test_size=0.2, random_state=89\n",
    ")"
   ]
  },
  {
   "cell_type": "code",
   "execution_count": null,
   "metadata": {},
   "outputs": [],
   "source": [
    "data = X_train\n",
    "fitnesses = [1]\n",
    "\n",
    "\n",
    "def fitness(individual, data):\n",
    "    fitness = 0\n",
    "    ind_predicted = model.predict(individual)[0]\n",
    "    fitness = abs((ind_predicted - intercept) / slope)\n",
    "    # print(fitness)\n",
    "    if fitnesses[-1] > fitness:\n",
    "        fitnesses.append(fitness)\n",
    "    return fitness"
   ]
  },
  {
   "cell_type": "code",
   "execution_count": null,
   "metadata": {},
   "outputs": [],
   "source": [
    "def create_individual(data):\n",
    "    dmso = random.uniform(0, 0.25)\n",
    "    sfb = 0.11\n",
    "    meio_cultura = 0.77\n",
    "    tipo_meio = 4\n",
    "    sugar_choice = random.randint(1, 2)\n",
    "    if sugar_choice == 1:\n",
    "        trehalose = random.uniform(0, 0.5)\n",
    "        glic = 0\n",
    "        sac = 0\n",
    "    elif sugar_choice == 2:\n",
    "        glic = random.uniform(0, 0.5)\n",
    "        trehalose = 0\n",
    "        sac = 0\n",
    "    elif sugar_choice == 3:\n",
    "        sac = random.uniform(0, 0.5)\n",
    "        trehalose = 0\n",
    "        glic = 0\n",
    "    return np.array([[dmso, sfb, meio_cultura, tipo_meio, trehalose, glic, sac]])\n",
    "\n",
    "\n",
    "print(create_individual(data))"
   ]
  },
  {
   "cell_type": "code",
   "execution_count": null,
   "metadata": {},
   "outputs": [],
   "source": [
    "def crossover(parent_1, parent_2):\n",
    "    crossover_index = np.random.randint(0, np.shape((parent_1))[1])\n",
    "    child_1 = np.array([parent_1[0][:crossover_index]])\n",
    "    child_1 = np.append(child_1, parent_2[0][crossover_index:])\n",
    "    child_2 = np.array([parent_2[0][:crossover_index]])\n",
    "    child_2 = np.append(child_2, parent_1[0][crossover_index:])\n",
    "    child_1 = child_1.reshape(1, num_var)\n",
    "    child_2 = child_2.reshape(1, num_var)\n",
    "    return child_1, child_2"
   ]
  },
  {
   "cell_type": "code",
   "execution_count": null,
   "metadata": {},
   "outputs": [],
   "source": [
    "def mutate(individual):\n",
    "    mutate_index = random.randrange(np.shape(individual)[0])\n",
    "    if individual[0][mutate_index] == 0:\n",
    "        individual[0][mutate_index] == 1\n",
    "    else:\n",
    "        individual[0][mutate_index] == 0"
   ]
  },
  {
   "cell_type": "code",
   "execution_count": null,
   "metadata": {},
   "outputs": [],
   "source": [
    "pop = 1000\n",
    "ga = GeneticAlgorithm(\n",
    "    data,\n",
    "    population_size=pop,\n",
    "    generations=150,\n",
    "    crossover_probability=0.2,\n",
    "    mutation_probability=0.1,\n",
    "    elitism=False,\n",
    "    maximise_fitness=False,\n",
    ")"
   ]
  },
  {
   "cell_type": "code",
   "execution_count": null,
   "metadata": {},
   "outputs": [],
   "source": [
    "num_var = X_train.shape[1]\n",
    "model = tf.keras.models.load_model(\n",
    "    \"models/model_current.h5\", custom_objects={\"mean_pred\": mean_pred}\n",
    ")\n",
    "test_ans = model.predict(X_test)\n",
    "slope, intercept, r_value, p_value, std_err = stats.linregress(\n",
    "    y_test[:, 0], test_ans[:, 0]\n",
    ")"
   ]
  },
  {
   "cell_type": "code",
   "execution_count": null,
   "metadata": {},
   "outputs": [],
   "source": [
    "ga.create_individual = create_individual\n",
    "ga.fitness_function = fitness\n",
    "ga.crossover_function = crossover\n",
    "ga.mutate_function = mutate\n",
    "\n",
    "ga.run()\n",
    "best_ind = ga.best_individual()\n",
    "print(best_ind)"
   ]
  },
  {
   "cell_type": "code",
   "execution_count": null,
   "metadata": {},
   "outputs": [],
   "source": [
    "x_axis = []\n",
    "i = 0\n",
    "for index in range(len(fitnesses)):\n",
    "    i += (\n",
    "        1\n",
    "    )\n",
    "    x_axis.append(i)\n",
    "print(x_axis)\n",
    "print(fitnesses)"
   ]
  },
  {
   "cell_type": "code",
   "execution_count": null,
   "metadata": {},
   "outputs": [],
   "source": [
    "plt.scatter(x_axis, fitnesses)\n",
    "plt.ylabel(\"Fitness\")\n",
    "plt.show()\n",
    "plt.savefig(\"../images/genetic_algorithm_eval.png\")"
   ]
  },
  {
   "cell_type": "code",
   "execution_count": null,
   "metadata": {},
   "outputs": [],
   "source": [
    "dmso = best_ind[1][0][0] * 100\n",
    "sfb = best_ind[1][0][1] * 100\n",
    "conc_meio = best_ind[1][0][2] * 100\n",
    "meio = best_ind[1][0][3]\n",
    "treh = best_ind[1][0][4] * 100\n",
    "glic = best_ind[1][0][5] * 100\n",
    "sac = best_ind[1][0][6] * 100\n",
    "print(\n",
    "    \" Parametros: \\n DMSO:%f \\n SFB: %f \\n CONCENTRACAO DE MEIO: %f\\n MEIO: %f\\n Trehalose: %f\\n Glicerol %f\\n Sacarose: %f\\n\"\n",
    "    % (dmso, sfb, conc_meio, meio, treh, glic, sac)\n",
    ")"
   ]
  }
 ],
 "metadata": {
  "kernelspec": {
   "display_name": "Python 3",
   "language": "python",
   "name": "python3"
  }
 },
 "nbformat": 4,
 "nbformat_minor": 4
}
