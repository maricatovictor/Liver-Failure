{
 "cells": [
  {
   "cell_type": "markdown",
   "metadata": {
    "Collapsed": "false",
    "colab_type": "text",
    "id": "k4nJthC5uPcI"
   },
   "source": [
    "Precisaremos das bibliotecas TensorFlow, Numpy e Pandas. Para importá-las, usamos o comando \"import\". No caso, tornamos estas bibliotecas acessíveis (semelhante a objeto), como por exemplo, importando a biblioteca TensorFlow como tf, para podemos executar um comando como: **tf**.keras.models.Sequential()  \n",
    "\n",
    "\n",
    "---\n",
    "\n",
    "\n",
    "\n",
    "**Quais são as bibliotecas que utilizaremos para trabalhar?**\n",
    "\n",
    "> **TensorFlow** é a biblioteca que nos permite trabalhar com as Redes Neurais Artificiais (ANN), é uma biblioteca desenvolvida pela Google que pode ser utilizada em Python e JavaScript, principalmente. Neste caso, utilizaremos a biblioteca para montar nosso modelo de aprendizado artificial. \n",
    "\n",
    "> **Numpy** é a biblioteca que nos permitirá manipular os dados que forem importados do Excel de forma que estes possam ser acessados pelo TensorFlow. Teoricamente, estes dados já deveriam ser acessíveis, porém, muitas vezes precisamos convertê-los, mudar a forma de um vetor importado, etc.\n",
    "\n",
    "> **Pandas** é a biblioteca (que existe para outras linguagens mas é muito utilizada dentro da área de Machine Learning em Python) utilizada para, por exemplo, acessar os dados de uma planilha do Excel. Normalmente, essa biblioteca permite que importemos os dados direto para um vetor da forma que precisarmos, porém, talvez, como dito, precisemos manipular o vetor pelo Numpy. Não sei se o Pandas funciona para importar dados do Google Planilhas, mas tentaremos, se não funcionar, é só baixar o arquivo no formato que seja reconhecido pelo Pandas.\n",
    "\n",
    "Para rodarmos o Pandas para arquivos xlsx no Google Collab, precisamos instalar a biblioteca para Excel do Python via: \"!pip install -q xrld\" \n",
    "\n",
    "\n",
    "---\n",
    "\n",
    "\n",
    "\n"
   ]
  },
  {
   "cell_type": "code",
   "execution_count": 1,
   "metadata": {
    "Collapsed": "false",
    "colab": {},
    "colab_type": "code",
    "id": "GQlYqdzVsx0_"
   },
   "outputs": [],
   "source": [
    "from scipy import stats\n",
    "import tensorflow as tf\n",
    "import numpy as np\n",
    "import pandas as pd\n",
    "import matplotlib.pyplot as plt\n",
    "from sklearn.metrics import mean_squared_error\n",
    "from sklearn import preprocessing\n",
    "import math\n",
    "import seaborn as sns\n"
   ]
  },
  {
   "cell_type": "code",
   "execution_count": 2,
   "metadata": {
    "Collapsed": "false",
    "colab": {},
    "colab_type": "code",
    "id": "VSOVRs-Te_zr"
   },
   "outputs": [],
   "source": [
    "def mean_pred(y_true, y_pred): #Loss function for problem error evaluation on TensorFlow\n",
    "    RMSE = tf.sqrt(tf.losses.mean_squared_error(y_true, y_pred))\n",
    "    return RMSE"
   ]
  },
  {
   "cell_type": "code",
   "execution_count": 113,
   "metadata": {
    "Collapsed": "false",
    "colab": {},
    "colab_type": "code",
    "id": "xqWI8Qnb3hNY"
   },
   "outputs": [],
   "source": [
    "from sklearn.model_selection import train_test_split\n",
    "#Split Data - train_test_split simple splitting\n",
    "X_train, X_test, y_train, y_test = train_test_split(\n",
    "    df, labels, test_size=0.2, random_state=89) #Split data to 20% test and 80% training"
   ]
  },
  {
   "cell_type": "code",
   "execution_count": 115,
   "metadata": {
    "Collapsed": "false",
    "colab": {},
    "colab_type": "code",
    "id": "q1XinEgY3hNk",
    "outputId": "5c3cba53-9b66-4b59-a99b-ef96c66f66f1"
   },
   "outputs": [
    {
     "data": {
      "text/plain": [
       "LinearRegression(copy_X=True, fit_intercept=True, n_jobs=None,\n",
       "         normalize=False)"
      ]
     },
     "execution_count": 115,
     "metadata": {},
     "output_type": "execute_result"
    }
   ],
   "source": [
    "#Fit a linear regressor (sklearn) for predicted x real evaluation (R2, etc.)\n",
    "from sklearn.linear_model import LinearRegression\n",
    "linear_reg = LinearRegression()\n",
    "linear_reg.fit(y_test, y_test)"
   ]
  },
  {
   "cell_type": "code",
   "execution_count": 116,
   "metadata": {
    "Collapsed": "false",
    "colab": {},
    "colab_type": "code",
    "id": "stQHd19qWbis"
   },
   "outputs": [
    {
     "name": "stdout",
     "output_type": "stream",
     "text": [
      "87\n"
     ]
    }
   ],
   "source": [
    "shape = np.shape(X_train) #Shape of train array (number of events, no of variables)\n",
    "num_var = shape[1] #how many variables on training data\n",
    "print(shape[0])"
   ]
  },
  {
   "cell_type": "code",
   "execution_count": 117,
   "metadata": {
    "Collapsed": "false",
    "colab": {},
    "colab_type": "code",
    "id": "eK5PzZQYfwY3"
   },
   "outputs": [],
   "source": [
    "model = tf.keras.models.load_model('Otimizacao de Solucoes Para Criopreservacao de Hepatocitos/models/model_current.h5', custom_objects={'mean_pred': mean_pred}, compile=False) #load the existing model"
   ]
  },
  {
   "cell_type": "raw",
   "metadata": {
    "Collapsed": "false",
    "colab": {},
    "colab_type": "code",
    "id": "wtP6z3eAbUDZ"
   },
   "source": [
    "%%script echo skip\n",
    "# Neural Network Structure\n",
    "model = tf.keras.models.Sequential([\n",
    "    tf.keras.layers.Dense(num_var + 1, activation='linear'),\n",
    "    tf.keras.layers.Dense(20, activation='relu'),\n",
    "    tf.keras.layers.Dropout(0.7, seed=36),\n",
    "    tf.keras.layers.Dense(20, activation='selu'),\n",
    "    tf.keras.layers.Dense(1, activation='linear')\n",
    "])"
   ]
  },
  {
   "cell_type": "raw",
   "metadata": {
    "Collapsed": "false"
   },
   "source": [
    "REDE NEURAL"
   ]
  },
  {
   "cell_type": "raw",
   "metadata": {
    "Collapsed": "false",
    "colab": {},
    "colab_type": "code",
    "id": "0HSvWW7LcXKr"
   },
   "source": [
    "%%script echo skip\n",
    "\n",
    "# Neural Network Parameters\n",
    "lr = 0.005\n",
    "optimizer = tf.keras.optimizers.Nadam(lr=lr)\n",
    "model.compile(\n",
    "    optimizer=optimizer,\n",
    "    loss=mean_pred)"
   ]
  },
  {
   "cell_type": "raw",
   "metadata": {
    "Collapsed": "false",
    "colab": {},
    "colab_type": "code",
    "id": "9qSKSNAEcZgQ",
    "outputId": "518e5e0b-2512-4e62-c179-f5b4a08a240c"
   },
   "source": [
    "%%script echo skip\n",
    "\n",
    "# Neural Network Fitting and Validation data\n",
    "model.fit(X_train, y_train, epochs=200, steps_per_epoch=(int(len(X_train))),\n",
    "          validation_data=(X_test, y_test), validation_steps=(int(len(X_test))))"
   ]
  },
  {
   "cell_type": "code",
   "execution_count": 118,
   "metadata": {
    "Collapsed": "false",
    "colab": {},
    "colab_type": "code",
    "id": "7uFTxQWsccBC"
   },
   "outputs": [],
   "source": [
    "test_ans = model.predict(X_test) #predict the test data and create an array of results"
   ]
  },
  {
   "cell_type": "code",
   "execution_count": 119,
   "metadata": {
    "Collapsed": "false",
    "colab": {},
    "colab_type": "code",
    "id": "ZDQhmKhLm4IA",
    "outputId": "8975db4b-55e3-4e88-b920-2bda90c73b2f"
   },
   "outputs": [
    {
     "name": "stdout",
     "output_type": "stream",
     "text": [
      "[[0.  0.  0.6 1.  0.  0.  0.4]]\n",
      "[0.85]\n",
      "[[0.91053706]]\n"
     ]
    }
   ],
   "source": [
    "t = 4\n",
    "x_predict = df[t] #get t (index) data from the original excel table\n",
    "\n",
    "print(df[t]) #print the parameters from t\n",
    "print(labels[t]) #print the result of t\n",
    "print(model.predict(x_predict)) #print the ann predicted result from t"
   ]
  },
  {
   "cell_type": "code",
   "execution_count": 120,
   "metadata": {
    "Collapsed": "false",
    "colab": {},
    "colab_type": "code",
    "id": "Gt2Z4wBfcorc",
    "outputId": "93af209d-9ccf-4cbb-ba67-b4f8d4ad0a06"
   },
   "outputs": [
    {
     "name": "stdout",
     "output_type": "stream",
     "text": [
      "RMSE: 0.1371484367545558\n"
     ]
    }
   ],
   "source": [
    "tensor_RMSE = math.sqrt(mean_squared_error(y_test, test_ans)) #get RMSE from real x predicted\n",
    "print(\"RMSE: \" + str(tensor_RMSE))"
   ]
  },
  {
   "cell_type": "code",
   "execution_count": 121,
   "metadata": {
    "Collapsed": "false",
    "colab": {},
    "colab_type": "code",
    "id": "oqnQs1-Uv6bW"
   },
   "outputs": [],
   "source": [
    "#test_r2_score = r2_score(y_test, test_ans)\n",
    "#print(\"R2: \" + str(test_r2_score))"
   ]
  },
  {
   "cell_type": "code",
   "execution_count": 122,
   "metadata": {
    "Collapsed": "false"
   },
   "outputs": [
    {
     "data": {
      "text/plain": [
       "(22, 7)"
      ]
     },
     "execution_count": 122,
     "metadata": {},
     "output_type": "execute_result"
    }
   ],
   "source": [
    "X_test.shape"
   ]
  },
  {
   "cell_type": "raw",
   "metadata": {
    "Collapsed": "false",
    "colab": {},
    "colab_type": "code",
    "id": "wbW4tWeMcsqQ",
    "outputId": "dcbe6010-968c-46a9-a271-342285fa4706"
   },
   "source": [
    "#Print parameters and predited result as a dataframe\n",
    "names = [_ for _ in range(0,len(X_test))] #generate index for the amount of events present on test data\n",
    "headers = x_sheet.columns #headers = column names from original excel sheet\n",
    "dataframe = pd.DataFrame(X_test, index=names, columns=headers) #data frame from test data\n",
    "dataframe['Queda da Viabilidade'] = test_ans #create a column with title that represents the predicted value for each event\n",
    "print(dataframe) #Print the generated dataframe"
   ]
  },
  {
   "cell_type": "code",
   "execution_count": 124,
   "metadata": {
    "Collapsed": "false",
    "colab": {},
    "colab_type": "code",
    "id": "0nGEbVSq3hOm"
   },
   "outputs": [],
   "source": [
    "#Print the model that is being used with the tensorflow format\n",
    "#tf.keras.models.save_model(model, 'model.h5')"
   ]
  },
  {
   "cell_type": "code",
   "execution_count": 125,
   "metadata": {
    "Collapsed": "false",
    "colab": {
     "base_uri": "https://localhost:8080/",
     "height": 231
    },
    "colab_type": "code",
    "executionInfo": {
     "elapsed": 631,
     "status": "error",
     "timestamp": 1545418158560,
     "user": {
      "displayName": "Victor Maricato",
      "photoUrl": "https://lh3.googleusercontent.com/-N_I80xhMV5g/AAAAAAAAAAI/AAAAAAAAdxo/namtoVR-T5Y/s64/photo.jpg",
      "userId": "10575675110544483070"
     },
     "user_tz": 120
    },
    "id": "aWB8taDJWvlI",
    "outputId": "45859294-7699-41df-e4bb-e36872796a6e"
   },
   "outputs": [
    {
     "name": "stdout",
     "output_type": "stream",
     "text": [
      "R2 Score from RxR + Scatter Predicted: 0.574238\n",
      "R2 Score from predicted x real 0.723037\n"
     ]
    },
    {
     "data": {
      "image/png": "[encoded data removed]",
      "text/plain": [
       "<Figure size 432x288 with 1 Axes>"
      ]
     },
     "metadata": {
      "needs_background": "light"
     },
     "output_type": "display_data"
    }
   ],
   "source": [
    "r2_score = linear_reg.score(y_test, test_ans) #print r2 score from the predicted results vs the real data\n",
    "print(\"R2 Score from RxR + Scatter Predicted: %f\" %r2_score) \n",
    "\n",
    "slope, intercept, r_value, p_value, std_err = stats.linregress(\n",
    "        y_test[:, 0], test_ans[:,0]) #get some constants and results from the regression line generated from the neural network\n",
    "print(\"R2 Score from predicted x real %f\" %r_value**2) #print the r2 of predicted value x fitted line on ann \n",
    "\n",
    "\n",
    "plt.scatter(y_test, test_ans) #plot the predicted values (y) x real(x)\n",
    "plt.plot(y_test, y_test, 'black', label='real values') #plot the alpha=1 line (real x real)\n",
    "plt.plot(y_test, intercept + slope * y_test, 'r', label='fitted line') #plot the ann regression line\n",
    "plt.xlabel('Real values')\n",
    "plt.ylabel('Predicted values')\n",
    "\n",
    "\n",
    "import matplotlib.patches as mpatches\n",
    "red_patch = mpatches.Patch(color='red', label='Regression from model')\n",
    "black_patch = mpatches.Patch(color='black', label='Regression from real data')\n",
    "plt.legend(handles=[red_patch, black_patch])\n",
    "#intercept + slope * y_test\n",
    "\n",
    "#plt.savefig('model_test_1.png') #save the generated figure\n",
    "plt.show() #show graphic\n"
   ]
  },
  {
   "cell_type": "markdown",
   "metadata": {
    "Collapsed": "false",
    "colab_type": "raw",
    "id": "tGj_H6Lz3hOw"
   },
   "source": [
    "y = ax + b\n",
    "x = y-b/a\n",
    "#you can use this formula to get which y data (predicted) correspond to the real data.\n",
    "For example: \n",
    "predicted = 0.5 but when the correspondent X value is seen, is 1. So, it is used the formula to \"convert\" the prediction error to real value"
   ]
  },
  {
   "cell_type": "code",
   "execution_count": 126,
   "metadata": {
    "Collapsed": "false",
    "colab": {},
    "colab_type": "code",
    "id": "PIzipHyy3hOx",
    "outputId": "e12919ce-029b-4902-9cc9-793845adb8c0"
   },
   "outputs": [
    {
     "name": "stdout",
     "output_type": "stream",
     "text": [
      "[[0.  0.1 0.9 2.  0.3 0.  0. ]]\n",
      "[0.22873797]\n",
      "[0.2]\n"
     ]
    }
   ],
   "source": [
    "#Get value from linear regression and convert it to number that corresponds on y_test\n",
    "i = 15 \n",
    "x_p = (test_ans[i] - intercept)/slope #use the formula described before to get the \"real correspondent value\"\n",
    "print(X_test[i]) #print the test parameter from index i\n",
    "print(x_p) #print the converted result from predicted\n",
    "print(y_test[i]) #print the real result"
   ]
  },
  {
   "cell_type": "code",
   "execution_count": 127,
   "metadata": {
    "Collapsed": "false",
    "colab": {},
    "colab_type": "code",
    "id": "1zXC0ukH3hO1",
    "outputId": "5883d27c-c6ef-4a65-a6e6-5c935bbcfb09"
   },
   "outputs": [
    {
     "data": {
      "text/plain": [
       "['dense_55', 'dense_56', 'dense_57', 'dense_58', 'dense_59', 'dropout_11']"
      ]
     },
     "execution_count": 127,
     "metadata": {},
     "output_type": "execute_result"
    }
   ],
   "source": [
    "tf.keras.Model.save_weights(model, \"saved.h5\") #save model weights\n",
    "import h5py\n",
    "data = h5py.File('saved.h5')\n",
    "list(data.keys())"
   ]
  },
  {
   "cell_type": "code",
   "execution_count": 128,
   "metadata": {
    "Collapsed": "false"
   },
   "outputs": [],
   "source": [
    "import random"
   ]
  },
  {
   "cell_type": "code",
   "execution_count": 129,
   "metadata": {
    "Collapsed": "false",
    "colab": {},
    "colab_type": "code",
    "id": "3zbobORz3hO8"
   },
   "outputs": [],
   "source": [
    "#data = [('dmso', 0.1), ('sfb', 0.4), ('meiocult', 0.5), ('tipomeiocult', 1), ('viabilidadeinicial', 0.9), ('t', 0), ('g', 0), ('s', 0)]\n",
    "data = X_train\n",
    "fitnesses = [1]\n",
    "def fitness (individual, data):\n",
    "    fitness = 0\n",
    "    #print(individual)\n",
    "    #print(np.shape(individual))\n",
    "    ind_predicted = model.predict(individual)[0] #get the predicted value from ann\n",
    "    fitness = abs((ind_predicted - intercept)/slope) #convert the value from regression fit\n",
    "    #print(fitness)\n",
    "    if(fitnesses[-1]>fitness): #if the fitness from the current individual analyzed is smaller than last one, add it to an array\n",
    "        fitnesses.append(fitness) #This array is used to plot the generation graphics\n",
    "    return fitness\n",
    "\n",
    "#test_ans = model.predict(X_test)\n",
    "#individual_test = np.array([[0.8,0.1,1,0,0,0,0]])\n",
    "#print(fitness(individual_test, data))\n",
    "#print(type(individual_test))"
   ]
  },
  {
   "cell_type": "code",
   "execution_count": 130,
   "metadata": {
    "Collapsed": "false",
    "colab": {},
    "colab_type": "code",
    "id": "U5kSErSZ3hO_",
    "outputId": "60460a83-304d-4b7f-bdfe-060235ef99cf"
   },
   "outputs": [
    {
     "name": "stdout",
     "output_type": "stream",
     "text": [
      "[[0.01877631 0.11       0.77       4.         0.         0.18369591\n",
      "  0.        ]]\n"
     ]
    }
   ],
   "source": [
    "#create initial population with limited range (avoid outliers and exaggerated parameters), keep it real\n",
    "def create_individual(data):\n",
    "    dmso = random.uniform(0, 0.25)\n",
    "    sfb = 0.11\n",
    "    meio_cultura = 0.77\n",
    "    tipo_meio = 4\n",
    "    sugar_choice = random.randint(1,2)\n",
    "    if(sugar_choice == 1):\n",
    "        trehalose = random.uniform(0,0.5)\n",
    "        glic = 0\n",
    "        sac = 0\n",
    "    elif(sugar_choice == 2):\n",
    "        glic = random.uniform(0,0.5)\n",
    "        trehalose = 0\n",
    "        sac = 0\n",
    "    elif(sugar_choice == 3):\n",
    "        sac = random.uniform(0,0.5)\n",
    "        trehalose = 0\n",
    "        glic = 0\n",
    "    return np.array([[dmso, sfb, meio_cultura, tipo_meio, trehalose, glic, sac]])\n",
    "print(create_individual(data))"
   ]
  },
  {
   "cell_type": "code",
   "execution_count": 131,
   "metadata": {
    "Collapsed": "false",
    "colab": {},
    "colab_type": "code",
    "id": "Ze8T6uxt3hPC"
   },
   "outputs": [],
   "source": [
    "def crossover(parent_1, parent_2):\n",
    "    #crossover_index = np.random.uniform(0,1, len(parent_1))\n",
    "    crossover_index = np.random.randint(0, np.shape((parent_1))[1]) #How many variables will come from parent 1 or 2\n",
    "    #print(parent_1);print(parent_2)\n",
    "    #print(crossover_index)\n",
    "    #print(\"Parent1:\");print(parent_1[0][:crossover_index])\n",
    "    #print(\"Parent2:\");print(parent_2[0][crossover_index:])\n",
    "    #The crossing over will generate 2 individuals: one with the first values form parent 1 and rest with values from p2 & another with first values from parent2 \n",
    "    child_1 = np.array([parent_1[0][:crossover_index]]) \n",
    "    child_1 = np.append(child_1, parent_2[0][crossover_index:])\n",
    "    child_2 = np.array([parent_2[0][:crossover_index]])\n",
    "    child_2 = np.append(child_2, parent_1[0][crossover_index:])\n",
    "    #Reshape the arrays for the ann used shape\n",
    "    child_1 = child_1.reshape(1,num_var)\n",
    "    child_2 = child_2.reshape(1,num_var)\n",
    "    #print(\"Child1:\");print(child_1)\n",
    "    #print(\"Child2:\");print(child_2)\n",
    "    return child_1, child_2"
   ]
  },
  {
   "cell_type": "code",
   "execution_count": 132,
   "metadata": {
    "Collapsed": "false",
    "colab": {},
    "colab_type": "code",
    "id": "Lfrhh6nE3hPG"
   },
   "outputs": [],
   "source": [
    "# For the mutate function, supply one individual (i.e. a candidate solution representation) as a parameter:\n",
    "import random\n",
    "def mutate(individual):\n",
    "    #print(individual[0])\n",
    "    mutate_index = random.randrange(np.shape(individual)[0])\n",
    "    if individual[0][mutate_index] == 0:\n",
    "        individual[0][mutate_index] == 1\n",
    "    else:\n",
    "        individual[0][mutate_index] == 0"
   ]
  },
  {
   "cell_type": "code",
   "execution_count": 135,
   "metadata": {
    "Collapsed": "false",
    "colab": {},
    "colab_type": "code",
    "id": "Mj0htn2_3hPK"
   },
   "outputs": [],
   "source": [
    "pop = 1000\n",
    "from pyeasyga.pyeasyga import GeneticAlgorithm\n",
    "ga = GeneticAlgorithm(data, population_size=pop,\n",
    "                               generations=150,\n",
    "                               crossover_probability=0.2,\n",
    "                               mutation_probability=0.1,\n",
    "                               elitism=False,\n",
    "                               maximise_fitness=False)\n"
   ]
  },
  {
   "cell_type": "code",
   "execution_count": 136,
   "metadata": {
    "Collapsed": "false",
    "colab": {},
    "colab_type": "code",
    "id": "3i1-dkEH3hPO",
    "outputId": "e6e2719f-908b-4237-c0ab-919f0a42972f"
   },
   "outputs": [
    {
     "name": "stdout",
     "output_type": "stream",
     "text": [
      "(array([0.03590884], dtype=float32), array([[2.51465080e-03, 1.10000000e-01, 7.70000000e-01, 4.00000000e+00,\n",
      "        4.63536949e-01, 0.00000000e+00, 0.00000000e+00]]))\n"
     ]
    }
   ],
   "source": [
    "ga.create_individual = create_individual\n",
    "ga.fitness_function = fitness\n",
    "ga.crossover_function = crossover\n",
    "ga.mutate_function = mutate\n",
    "\n",
    "ga.run()\n",
    "best_ind = ga.best_individual()\n",
    "print(best_ind)"
   ]
  },
  {
   "cell_type": "code",
   "execution_count": 137,
   "metadata": {
    "Collapsed": "false",
    "colab": {},
    "colab_type": "code",
    "id": "GThxLxQY3hPS",
    "outputId": "aba01a81-e0cf-4613-d1ef-a9457db41180"
   },
   "outputs": [
    {
     "name": "stdout",
     "output_type": "stream",
     "text": [
      "[1, 2, 3, 4, 5, 6, 7, 8, 9, 10, 11, 12, 13]\n",
      "[1, array([0.29070625], dtype=float32), array([0.173343], dtype=float32), array([0.15481198], dtype=float32), array([0.1489012], dtype=float32), array([0.1422359], dtype=float32), array([0.09571205], dtype=float32), array([0.07876156], dtype=float32), array([0.05729976], dtype=float32), array([0.05151327], dtype=float32), array([0.04097053], dtype=float32), array([0.03669538], dtype=float32), array([0.03590884], dtype=float32)]\n"
     ]
    }
   ],
   "source": [
    "#Create a graphics for generation x fitness\n",
    "x_axis = []\n",
    "i = 0\n",
    "for index in range(len(fitnesses)):\n",
    "    i += 1 #for each parameters in fitness value, get an index value on an array that will be used to plot X axis on graphic\n",
    "    x_axis.append(i)\n",
    "print(x_axis)\n",
    "print(fitnesses)"
   ]
  },
  {
   "cell_type": "code",
   "execution_count": 138,
   "metadata": {
    "Collapsed": "false",
    "colab": {},
    "colab_type": "code",
    "id": "3PBqxXog3hPV",
    "outputId": "54a1fd9f-f2e0-4def-9c00-1330a820d3f0"
   },
   "outputs": [
    {
     "data": {
      "image/png": "[encoded data removed]",
      "text/plain": [
       "<Figure size 432x288 with 1 Axes>"
      ]
     },
     "metadata": {
      "needs_background": "light"
     },
     "output_type": "display_data"
    },
    {
     "data": {
      "text/plain": [
       "<Figure size 432x288 with 0 Axes>"
      ]
     },
     "metadata": {},
     "output_type": "display_data"
    }
   ],
   "source": [
    "#Graphics from fitness decrease during generation\n",
    "plt.scatter(x_axis, fitnesses)\n",
    "plt.ylabel('Fitness')\n",
    "plt.show()\n",
    "plt.savefig('ga_1.png')"
   ]
  },
  {
   "cell_type": "code",
   "execution_count": 139,
   "metadata": {
    "Collapsed": "false",
    "colab": {},
    "colab_type": "code",
    "id": "y5BxYsb33hPa",
    "outputId": "c767cdb4-8f47-4ca8-91c0-8cca59730b43"
   },
   "outputs": [
    {
     "name": "stdout",
     "output_type": "stream",
     "text": [
      " Parametros: \n",
      " DMSO:0.251465 \n",
      " SFB: 11.000000 \n",
      " CONCENTRACAO DE MEIO: 77.000000\n",
      " MEIO: 4.000000\n",
      " Trehalose: 46.353695\n",
      " Glicerol 0.000000\n",
      " Sacarose: 0.000000\n",
      "\n"
     ]
    }
   ],
   "source": [
    "#Print the parameters from the best individual on an organized and understandable way\n",
    "dmso = best_ind[1][0][0]*100\n",
    "sfb = best_ind[1][0][1]*100\n",
    "conc_meio = best_ind[1][0][2]*100\n",
    "meio = best_ind[1][0][3]\n",
    "treh = best_ind[1][0][4]*100\n",
    "glic = best_ind[1][0][5]*100\n",
    "sac = best_ind[1][0][6]*100\n",
    "print(\" Parametros: \\n DMSO:%f \\n SFB: %f \\n CONCENTRACAO DE MEIO: %f\\n MEIO: %f\\n Trehalose: %f\\n Glicerol %f\\n Sacarose: %f\\n\" %(dmso, sfb, conc_meio, meio, treh, glic, sac))"
   ]
  }
 ],
 "metadata": {
  "accelerator": "GPU",
  "colab": {
   "collapsed_sections": [],
   "name": "hepatocitos.ipynb",
   "provenance": [],
   "version": "0.3.2"
  },
  "kernelspec": {
   "display_name": "Python 3",
   "language": "python",
   "name": "python3"
  },
  "language_info": {
   "codemirror_mode": {
    "name": "ipython",
    "version": 3
   },
   "file_extension": ".py",
   "mimetype": "text/x-python",
   "name": "python",
   "nbconvert_exporter": "python",
   "pygments_lexer": "ipython3",
   "version": "3.7.3"
  }
 },
 "nbformat": 4,
 "nbformat_minor": 4
}
